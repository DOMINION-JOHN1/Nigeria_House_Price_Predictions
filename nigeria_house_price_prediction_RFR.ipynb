{
 "cells": [
  {
   "cell_type": "code",
   "execution_count": 2,
   "metadata": {
    "collapsed": true,
    "pycharm": {
     "name": "#%%\n"
    }
   },
   "outputs": [],
   "source": [
    "import pandas as pd\n",
    "import numpy as np\n",
    "import matplotlib.pyplot as plt\n",
    "import seaborn as sns"
   ]
  },
  {
   "cell_type": "code",
   "execution_count": 3,
   "outputs": [],
   "source": [
    "df = pd.read_csv('nigeria_houses_data.csv')"
   ],
   "metadata": {
    "collapsed": false,
    "pycharm": {
     "name": "#%%\n"
    }
   }
  },
  {
   "cell_type": "code",
   "execution_count": 4,
   "outputs": [
    {
     "data": {
      "text/plain": "       bedrooms  bathrooms  toilets  parking_space                 title  \\\n0           6.0        5.0      5.0            4.0       Detached Duplex   \n1           4.0        5.0      5.0            4.0     Terraced Duplexes   \n2           4.0        5.0      5.0            4.0       Detached Duplex   \n3           4.0        4.0      5.0            6.0       Detached Duplex   \n4           4.0        4.0      5.0            2.0  Semi Detached Duplex   \n...         ...        ...      ...            ...                   ...   \n24321       2.0        2.0      2.0            4.0        Block of Flats   \n24322       4.0        5.0      5.0            4.0        Block of Flats   \n24323       4.0        5.0      5.0            4.0       Detached Duplex   \n24324       3.0        4.0      4.0            3.0        Block of Flats   \n24325       4.0        5.0      5.0            4.0       Detached Duplex   \n\n                       town  state        price  \n0                   Mabushi  Abuja  450000000.0  \n1                   Katampe  Abuja  800000000.0  \n2                     Lekki  Lagos  120000000.0  \n3                      Ajah  Lagos   40000000.0  \n4                     Lekki  Lagos   75000000.0  \n...                     ...    ...          ...  \n24321                Kabusa  Abuja   15000000.0  \n24322           Ado-Odo/Ota   Ogun   25000000.0  \n24323                 Lekki  Lagos   68000000.0  \n24324  Victoria Island (VI)  Lagos   78000000.0  \n24325                 Lekki  Lagos   65000000.0  \n\n[24326 rows x 8 columns]",
      "text/html": "<div>\n<style scoped>\n    .dataframe tbody tr th:only-of-type {\n        vertical-align: middle;\n    }\n\n    .dataframe tbody tr th {\n        vertical-align: top;\n    }\n\n    .dataframe thead th {\n        text-align: right;\n    }\n</style>\n<table border=\"1\" class=\"dataframe\">\n  <thead>\n    <tr style=\"text-align: right;\">\n      <th></th>\n      <th>bedrooms</th>\n      <th>bathrooms</th>\n      <th>toilets</th>\n      <th>parking_space</th>\n      <th>title</th>\n      <th>town</th>\n      <th>state</th>\n      <th>price</th>\n    </tr>\n  </thead>\n  <tbody>\n    <tr>\n      <th>0</th>\n      <td>6.0</td>\n      <td>5.0</td>\n      <td>5.0</td>\n      <td>4.0</td>\n      <td>Detached Duplex</td>\n      <td>Mabushi</td>\n      <td>Abuja</td>\n      <td>450000000.0</td>\n    </tr>\n    <tr>\n      <th>1</th>\n      <td>4.0</td>\n      <td>5.0</td>\n      <td>5.0</td>\n      <td>4.0</td>\n      <td>Terraced Duplexes</td>\n      <td>Katampe</td>\n      <td>Abuja</td>\n      <td>800000000.0</td>\n    </tr>\n    <tr>\n      <th>2</th>\n      <td>4.0</td>\n      <td>5.0</td>\n      <td>5.0</td>\n      <td>4.0</td>\n      <td>Detached Duplex</td>\n      <td>Lekki</td>\n      <td>Lagos</td>\n      <td>120000000.0</td>\n    </tr>\n    <tr>\n      <th>3</th>\n      <td>4.0</td>\n      <td>4.0</td>\n      <td>5.0</td>\n      <td>6.0</td>\n      <td>Detached Duplex</td>\n      <td>Ajah</td>\n      <td>Lagos</td>\n      <td>40000000.0</td>\n    </tr>\n    <tr>\n      <th>4</th>\n      <td>4.0</td>\n      <td>4.0</td>\n      <td>5.0</td>\n      <td>2.0</td>\n      <td>Semi Detached Duplex</td>\n      <td>Lekki</td>\n      <td>Lagos</td>\n      <td>75000000.0</td>\n    </tr>\n    <tr>\n      <th>...</th>\n      <td>...</td>\n      <td>...</td>\n      <td>...</td>\n      <td>...</td>\n      <td>...</td>\n      <td>...</td>\n      <td>...</td>\n      <td>...</td>\n    </tr>\n    <tr>\n      <th>24321</th>\n      <td>2.0</td>\n      <td>2.0</td>\n      <td>2.0</td>\n      <td>4.0</td>\n      <td>Block of Flats</td>\n      <td>Kabusa</td>\n      <td>Abuja</td>\n      <td>15000000.0</td>\n    </tr>\n    <tr>\n      <th>24322</th>\n      <td>4.0</td>\n      <td>5.0</td>\n      <td>5.0</td>\n      <td>4.0</td>\n      <td>Block of Flats</td>\n      <td>Ado-Odo/Ota</td>\n      <td>Ogun</td>\n      <td>25000000.0</td>\n    </tr>\n    <tr>\n      <th>24323</th>\n      <td>4.0</td>\n      <td>5.0</td>\n      <td>5.0</td>\n      <td>4.0</td>\n      <td>Detached Duplex</td>\n      <td>Lekki</td>\n      <td>Lagos</td>\n      <td>68000000.0</td>\n    </tr>\n    <tr>\n      <th>24324</th>\n      <td>3.0</td>\n      <td>4.0</td>\n      <td>4.0</td>\n      <td>3.0</td>\n      <td>Block of Flats</td>\n      <td>Victoria Island (VI)</td>\n      <td>Lagos</td>\n      <td>78000000.0</td>\n    </tr>\n    <tr>\n      <th>24325</th>\n      <td>4.0</td>\n      <td>5.0</td>\n      <td>5.0</td>\n      <td>4.0</td>\n      <td>Detached Duplex</td>\n      <td>Lekki</td>\n      <td>Lagos</td>\n      <td>65000000.0</td>\n    </tr>\n  </tbody>\n</table>\n<p>24326 rows × 8 columns</p>\n</div>"
     },
     "execution_count": 4,
     "metadata": {},
     "output_type": "execute_result"
    }
   ],
   "source": [
    "df"
   ],
   "metadata": {
    "collapsed": false,
    "pycharm": {
     "name": "#%%\n"
    }
   }
  },
  {
   "cell_type": "code",
   "execution_count": 5,
   "outputs": [
    {
     "data": {
      "text/plain": "bedrooms         0\nbathrooms        0\ntoilets          0\nparking_space    0\ntitle            0\ntown             0\nstate            0\nprice            0\ndtype: int64"
     },
     "execution_count": 5,
     "metadata": {},
     "output_type": "execute_result"
    }
   ],
   "source": [
    "df.isna().sum()"
   ],
   "metadata": {
    "collapsed": false,
    "pycharm": {
     "name": "#%%\n"
    }
   }
  },
  {
   "cell_type": "code",
   "execution_count": null,
   "outputs": [],
   "source": [
    "df"
   ],
   "metadata": {
    "collapsed": false,
    "pycharm": {
     "name": "#%%\n"
    }
   }
  }
 ],
 "metadata": {
  "kernelspec": {
   "display_name": "Python 3",
   "language": "python",
   "name": "python3"
  },
  "language_info": {
   "codemirror_mode": {
    "name": "ipython",
    "version": 2
   },
   "file_extension": ".py",
   "mimetype": "text/x-python",
   "name": "python",
   "nbconvert_exporter": "python",
   "pygments_lexer": "ipython2",
   "version": "2.7.6"
  }
 },
 "nbformat": 4,
 "nbformat_minor": 0
}